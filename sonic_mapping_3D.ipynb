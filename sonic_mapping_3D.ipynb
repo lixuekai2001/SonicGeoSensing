{
 "cells": [
  {
   "cell_type": "code",
   "execution_count": null,
   "id": "c89e18d5",
   "metadata": {},
   "outputs": [],
   "source": [
    "import numpy as np\n",
    "import os\n",
    "import sys\n",
    "import pandas as pd\n",
    "import matplotlib.pyplot as plt\n",
    "from scipy.interpolate import interp2d\n",
    "from mpl_toolkits.mplot3d import Axes3D\n",
    "from matplotlib.colors import Normalize\n",
    "from matplotlib.cm import ScalarMappable\n",
    "from scipy.interpolate import griddata\n",
    "from mpl_toolkits.mplot3d.art3d import Poly3DCollection\n",
    "from mpl_toolkits.axes_grid1 import make_axes_locatable\n",
    "from scipy.ndimage import zoom\n",
    "from scipy.interpolate import RegularGridInterpolator\n",
    "import plotly.graph_objects as go\n",
    "import plotly.io as pio\n",
    "import pickle\n",
    "import warnings\n",
    "import time\n",
    "\n",
    "\n",
    "# Suppress all warnings\n",
    "warnings.filterwarnings('ignore')\n",
    "# Root directory of the project\n",
    "\n",
    "ROOT_DIR = os.path.abspath(os.getcwd())\n",
    "sys.path.append(ROOT_DIR)  \n",
    " \n",
    "from mappingpro import utils\n",
    "from mappingpro import visualize\n",
    "\n",
    "# Record the start time\n",
    "start_time = time.time()\n",
    "def show_time(start_time):\n",
    "    # Record the end time\n",
    "    end_time = time.time()\n",
    "    # Calculate the time taken\n",
    "    elapsed_time = end_time - start_time\n",
    "    print(f\"Time taken: {elapsed_time/60:.2f} mins\")"
   ]
  },
  {
   "cell_type": "code",
   "execution_count": null,
   "id": "dbe63591",
   "metadata": {},
   "outputs": [],
   "source": [
    "data_dir = 'data/'\n",
    "title = 'dry_samples'\n",
    "utils.data_extract(data_dir,title)"
   ]
  },
  {
   "cell_type": "code",
   "execution_count": null,
   "id": "2cf46b9e",
   "metadata": {},
   "outputs": [],
   "source": [
    "visualize.plot_2d_data(data_dir)\n",
    "show_time(start_time)"
   ]
  },
  {
   "cell_type": "code",
   "execution_count": null,
   "id": "892321f6",
   "metadata": {},
   "outputs": [],
   "source": [
    "show_time(start_time)"
   ]
  },
  {
   "cell_type": "code",
   "execution_count": null,
   "id": "6e5ec0b1",
   "metadata": {},
   "outputs": [],
   "source": [
    "visualize.plot_3d_data(data_dir)\n",
    "show_time(start_time)"
   ]
  },
  {
   "cell_type": "code",
   "execution_count": null,
   "id": "4e27a28b-8280-420c-8f0b-aa63f07d3b31",
   "metadata": {},
   "outputs": [],
   "source": [
    "show_time(start_time)"
   ]
  },
  {
   "cell_type": "markdown",
   "id": "f4e82bee",
   "metadata": {},
   "source": [
    "To calculate the Young's Modulus and Poisson's Ratio, typically need stress-strain data. However, if you have wave velocities and material density, we can also derive these properties using the following formulas:\n",
    "\n",
    "1. **Young's Modulus (E)**:\n",
    "$$\n",
    "E = \\rho \\left(3V_p^2 - 4V_s^2\\right)\n",
    "$$\n",
    "where \\(\\rho\\) is the density, \\(V_p\\) is the P-wave velocity, and \\(V_s\\) is the S-wave velocity.\n",
    "\n",
    "2. **Poisson's Ratio ($\\nu$)**:\n",
    "$$\n",
    "\\nu = \\frac{V_p^2 - 2V_s^2}{2(V_p^2 - V_s^2)}\n",
    "$$\n",
    "\n",
    "To calculate the Bulk Modulus ($K$) and Shear Modulus ($G$) dynamically using similar methods as for Young's Modulus and Poisson's Ratio, we can use the following formulas:\n",
    "\n",
    "3. **Shear Modulus ($G$)**:\n",
    "\n",
    "$$\n",
    "G = \\rho V_s^2\n",
    "$$\n",
    "\n",
    "where $\\rho$ is the density and $V_s$ is the S-wave velocity.\n",
    "\n",
    "4. **Bulk Modulus ($K$)**:\n",
    "\n",
    "$$\n",
    "K = \\rho \\left( V_p^2 - \\frac{4}{3} V_s^2 \\right)\n",
    "$$\n",
    "\n",
    "where $\\rho$ is the density, $V_p$ is the P-wave velocity, and $V_s$ is the S-wave velocity.\n"
   ]
  },
  {
   "cell_type": "code",
   "execution_count": null,
   "id": "200c0d49",
   "metadata": {},
   "outputs": [],
   "source": [
    "def middle_sonic(data_dir):\n",
    "    files = [file for file in os.listdir(data_dir) if file.endswith('.pkl')]\n",
    "    sample_names = [file.split('.')[0] for file in files if file.endswith('.pkl')]\n",
    "    #\n",
    "    data_avg = []\n",
    "    for i in np.arange(len(files)):\n",
    "        print(\"Processing: \"+str(files[i]))\n",
    "    #     path_files = os.path.join(ROOT_DIR, data_dir+'/'+files[i])\n",
    "        path_files = data_dir+'/'+files[i]\n",
    "        with open(path_files, 'rb') as pk_file:\n",
    "            df = pickle.load(pk_file)\n",
    "        avg5 = []\n",
    "        item = list(df)\n",
    "        for j in np.arange(len(item)):\n",
    "            avg5.append((df[item[j]][0][1,1]+df[item[j]][0][1,1]+df[item[j]][0][1,1])/3)\n",
    "        data_avg.append(avg5)\n",
    "    #\n",
    "    data_avg = pd.DataFrame(data_avg)\n",
    "    data_avg.index = sample_names\n",
    "    data_avg.columns = list(df)\n",
    "    data_avg.to_csv(data_dir+'/'+'middle_sonic_avg.csv')\n",
    "\n",
    "data_dir = ROOT_DIR+\"\\Results\\Result_data\\dry_samples\"\n",
    "middle_sonic(data_dir)\n",
    "data_dir = ROOT_DIR+\"\\Results\\Result_data\\wet_samples\"\n",
    "middle_sonic(data_dir)"
   ]
  },
  {
   "cell_type": "code",
   "execution_count": null,
   "id": "37495880",
   "metadata": {},
   "outputs": [],
   "source": [
    "show_time(start_time)"
   ]
  },
  {
   "cell_type": "code",
   "execution_count": null,
   "id": "24a96dc4",
   "metadata": {},
   "outputs": [],
   "source": []
  },
  {
   "cell_type": "code",
   "execution_count": null,
   "id": "8e9de1d9",
   "metadata": {},
   "outputs": [],
   "source": []
  }
 ],
 "metadata": {
  "kernelspec": {
   "display_name": "Python 3 (ipykernel)",
   "language": "python",
   "name": "python3"
  },
  "language_info": {
   "codemirror_mode": {
    "name": "ipython",
    "version": 3
   },
   "file_extension": ".py",
   "mimetype": "text/x-python",
   "name": "python",
   "nbconvert_exporter": "python",
   "pygments_lexer": "ipython3",
   "version": "3.10.13"
  }
 },
 "nbformat": 4,
 "nbformat_minor": 5
}
